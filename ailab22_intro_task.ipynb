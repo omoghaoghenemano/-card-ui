{
  "nbformat": 4,
  "nbformat_minor": 0,
  "metadata": {
    "colab": {
      "provenance": [],
      "include_colab_link": true
    },
    "kernelspec": {
      "name": "python3",
      "display_name": "Python 3"
    },
    "language_info": {
      "name": "python"
    }
  },
  "cells": [
    {
      "cell_type": "markdown",
      "metadata": {
        "id": "view-in-github",
        "colab_type": "text"
      },
      "source": [
        "<a href=\"https://colab.research.google.com/github/omoghaoghenemano/-card-ui/blob/master/ailab22_intro_task.ipynb\" target=\"_parent\"><img src=\"https://colab.research.google.com/assets/colab-badge.svg\" alt=\"Open In Colab\"/></a>"
      ]
    },
    {
      "cell_type": "markdown",
      "source": [
        "# Applied AI Lab WS2022 Introductory Task\n",
        "\n",
        "Please solve the following task as part of your application to the Applied AI Lab.\n",
        "Since the lab depends on the participants being able to implement (deep) machine learning solutions, solving this task is a requirement for acceptance.\n",
        "However, it is not important to maximize the performance or do excessive optimization.\n",
        "\n",
        "You are given a dataset (in Studip) of handwritten numbers with two digits.\n",
        "Your task is to construct and train a classifier to predict the number from the image input.\n",
        "Specifically, please:\n",
        "1. Train an sklearn classifier for this task.\n",
        "2. Train a deep learning model for this task with testing accuracy over 80% (there is no hidden test set, so do not overfit on the given test data).\n",
        "3. Send a link to your solution (a single Google Colab notebook) as part of your application mail.\n",
        "\n",
        "Additional information:\n",
        "* The dataset can be easily loaded with `torchvision.datasets.ImageFolder`.\n",
        "* You can use any deep learning framework you are comfortable with.\n",
        "* We recommend working on Google Colab. To have access to the dataset, see https://colab.research.google.com/notebooks/io.ipynb.\n",
        "\n"
      ],
      "metadata": {
        "id": "5KoYQeQD9sxW"
      }
    },
    {
      "cell_type": "code",
      "source": [
        "import numpy as np\n",
        "import tensorflow as tf\n",
        "import matplotlib.pyplot as plt\n",
        "import os\n",
        "import csv\n",
        "from tensorflow.keras.models import Sequential\n",
        "from tensorflow.keras.layers import Dense\n",
        "from tensorflow.keras.activations import linear, relu, sigmoid\n",
        "from tensorflow.keras import layers, models\n",
        "from tensorflow.keras.preprocessing.image import ImageDataGenerator\n"
      ],
      "metadata": {
        "id": "JAdm55D7cR5J"
      },
      "execution_count": 11,
      "outputs": []
    },
    {
      "cell_type": "markdown",
      "source": [
        "Load data"
      ],
      "metadata": {
        "id": "3xs9oqEjde9u"
      }
    },
    {
      "cell_type": "code",
      "source": [
        "import zipfile\n",
        "\n",
        "zip_file_path = '/media/images.zip'\n",
        "\n",
        "extract_folder_path = '/media'\n",
        "\n",
        "with zipfile.ZipFile(zip_file_path, 'r') as zip_ref:\n",
        "    zip_ref.extractall(extract_folder_path)"
      ],
      "metadata": {
        "id": "wz83aJmplymw"
      },
      "execution_count": 12,
      "outputs": []
    },
    {
      "cell_type": "code",
      "source": [
        "\n",
        "\n",
        "\n",
        "train_data_path = '/media/images/train'\n",
        "test_data_path = '/media/images/test'\n",
        "\n",
        "image_size = (64, 64)\n",
        "batch_size = 32\n",
        "\n",
        "\n",
        "train_dataset = tf.keras.preprocessing.image_dataset_from_directory(\n",
        "    train_data_path,\n",
        "    image_size=image_size,\n",
        "    batch_size=batch_size,\n",
        "    shuffle=True,\n",
        "    seed=123,\n",
        ")\n",
        "validation_dataset = train_datagen.flow_from_directory(\n",
        "    train_data_path,\n",
        "    target_size=image_size,\n",
        "    batch_size=batch_size,\n",
        "    class_mode='categorical',  # Assumes a classification task, adjust accordingly\n",
        "    subset=\"validation\",\n",
        ")\n",
        "\n",
        "# Create the testing dataset\n",
        "test_datagen = ImageDataGenerator(rescale=1./255)  # Normalize pixel values for testing\n",
        "test_dataset = test_datagen.flow_from_directory(\n",
        "    test_data_path,\n",
        "    target_size=image_size,\n",
        "    batch_size=batch_size,\n",
        "    class_mode='categorical',  # Assumes a classification task, adjust accordingly\n",
        ")\n",
        "\n",
        "\n",
        "class_names = train_dataset.class_names\n",
        "print(\"Class Names:\", class_names)\n",
        "\n",
        "# Example: Iterate through a batch of the training dataset\n",
        "for images, labels in train_dataset.take(1):\n",
        "    print(\"Batch shape:\", images.shape)\n",
        "    print(\"Labels:\", labels.numpy())\n"
      ],
      "metadata": {
        "id": "EQWGhZpImqPN",
        "colab": {
          "base_uri": "https://localhost:8080/"
        },
        "outputId": "a653d53d-37cc-47a5-8c47-aac1ed1c6075"
      },
      "execution_count": 16,
      "outputs": [
        {
          "output_type": "stream",
          "name": "stdout",
          "text": [
            "Found 10000 files belonging to 100 classes.\n",
            "Found 1960 images belonging to 100 classes.\n",
            "Found 1000 images belonging to 100 classes.\n",
            "Class Names: ['0', '1', '10', '11', '12', '13', '14', '15', '16', '17', '18', '19', '2', '20', '21', '22', '23', '24', '25', '26', '27', '28', '29', '3', '30', '31', '32', '33', '34', '35', '36', '37', '38', '39', '4', '40', '41', '42', '43', '44', '45', '46', '47', '48', '49', '5', '50', '51', '52', '53', '54', '55', '56', '57', '58', '59', '6', '60', '61', '62', '63', '64', '65', '66', '67', '68', '69', '7', '70', '71', '72', '73', '74', '75', '76', '77', '78', '79', '8', '80', '81', '82', '83', '84', '85', '86', '87', '88', '89', '9', '90', '91', '92', '93', '94', '95', '96', '97', '98', '99']\n",
            "Batch shape: (32, 64, 64, 3)\n",
            "Labels: [53  4  0 25 33 62 69 41 60 44  2 33 47  3 12 55 77 55 20 90 31 64 83 37\n",
            " 22 41  8 72 85 60 16 49]\n"
          ]
        }
      ]
    },
    {
      "cell_type": "code",
      "source": [
        "image_size = (64, 64)\n",
        "batch_size = 32\n",
        "\n",
        "\n",
        "train_datagen = ImageDataGenerator(\n",
        "    rescale=1./255,\n",
        "    validation_split=0.2\n",
        ")\n",
        "\n",
        "train_dataset = train_datagen.flow_from_directory(\n",
        "    train_data_path,\n",
        "    target_size=image_size,\n",
        "    batch_size=batch_size,\n",
        "    class_mode='categorical',\n",
        "    subset=\"training\",\n",
        ")\n",
        "\n",
        "\n",
        "class_names = train_dataset.class_indices\n",
        "class_names = list(class_names.keys())\n",
        "\n",
        "\n",
        "images, labels = next(train_dataset)\n",
        "\n",
        "plt.figure(figsize=(10, 10))\n",
        "for i in range(9):\n",
        "    ax = plt.subplot(3, 3, i + 1)\n",
        "    plt.imshow(images[i])\n",
        "    plt.title(class_names[tf.argmax(labels[i])])\n",
        "    plt.axis(\"off\")\n",
        "plt.show()"
      ],
      "metadata": {
        "id": "HXJFileUsl7H",
        "colab": {
          "base_uri": "https://localhost:8080/",
          "height": 846
        },
        "outputId": "4d6e9d60-0a18-441a-db65-ab86f7d093c1"
      },
      "execution_count": 17,
      "outputs": [
        {
          "output_type": "stream",
          "name": "stdout",
          "text": [
            "Found 8040 images belonging to 100 classes.\n"
          ]
        },
        {
          "output_type": "display_data",
          "data": {
            "text/plain": [
              "<Figure size 1000x1000 with 9 Axes>"
            ],
            "image/png": "[encoded data removed]"
          },
          "metadata": {}
        }
      ]
    },
    {
      "cell_type": "code",
      "source": [
        "num_classes = len(train_dataset.class_indices)\n",
        "\n",
        "\n",
        "model = models.Sequential()\n",
        "model.add(layers.Conv2D(32, (3, 3), activation='relu', input_shape=(64, 64, 3)))\n",
        "model.add(layers.MaxPooling2D((2, 2)))\n",
        "model.add(layers.Flatten())\n",
        "model.add(layers.Dense(128, activation='relu'))\n",
        "model.add(layers.Dense(num_classes, activation='softmax'))\n",
        "\n",
        "\n",
        "model.compile(optimizer='adam',\n",
        "              loss='categorical_crossentropy',\n",
        "              metrics=['accuracy'])\n",
        "\n",
        "\n",
        "num_epochs = 20\n",
        "history = model.fit(\n",
        "    train_dataset,\n",
        "    epochs=num_epochs,\n",
        "    validation_data=validation_dataset\n",
        ")\n",
        "\n",
        "\n",
        "test_loss, test_accuracy = model.evaluate(test_dataset)\n",
        "print(f'Testing Accuracy: {test_accuracy * 100:.2f}%')"
      ],
      "metadata": {
        "id": "nuJTV-QcvVVR",
        "colab": {
          "base_uri": "https://localhost:8080/"
        },
        "outputId": "1074fe72-8b7e-485e-f284-555fc8bbda26"
      },
      "execution_count": 20,
      "outputs": [
        {
          "output_type": "stream",
          "name": "stdout",
          "text": [
            "Epoch 1/20\n",
            "252/252 [==============================] - 36s 140ms/step - loss: 2.5559 - accuracy: 0.3597 - val_loss: 1.3312 - val_accuracy: 0.6184\n",
            "Epoch 2/20\n",
            "252/252 [==============================] - 38s 149ms/step - loss: 0.7536 - accuracy: 0.7831 - val_loss: 0.9541 - val_accuracy: 0.7204\n",
            "Epoch 3/20\n",
            "252/252 [==============================] - 37s 145ms/step - loss: 0.2644 - accuracy: 0.9264 - val_loss: 0.9607 - val_accuracy: 0.7378\n",
            "Epoch 4/20\n",
            "252/252 [==============================] - 36s 142ms/step - loss: 0.0902 - accuracy: 0.9797 - val_loss: 0.9938 - val_accuracy: 0.7505\n",
            "Epoch 5/20\n",
            "252/252 [==============================] - 34s 136ms/step - loss: 0.0340 - accuracy: 0.9925 - val_loss: 1.0020 - val_accuracy: 0.7617\n",
            "Epoch 6/20\n",
            "252/252 [==============================] - 34s 135ms/step - loss: 0.0169 - accuracy: 0.9970 - val_loss: 1.0673 - val_accuracy: 0.7561\n",
            "Epoch 7/20\n",
            "252/252 [==============================] - 34s 133ms/step - loss: 0.0090 - accuracy: 0.9989 - val_loss: 1.0437 - val_accuracy: 0.7786\n",
            "Epoch 8/20\n",
            "252/252 [==============================] - 34s 134ms/step - loss: 0.0020 - accuracy: 1.0000 - val_loss: 1.0584 - val_accuracy: 0.7801\n",
            "Epoch 9/20\n",
            "252/252 [==============================] - 37s 148ms/step - loss: 9.4763e-04 - accuracy: 1.0000 - val_loss: 1.0900 - val_accuracy: 0.7837\n",
            "Epoch 10/20\n",
            "252/252 [==============================] - 35s 140ms/step - loss: 6.4685e-04 - accuracy: 1.0000 - val_loss: 1.1191 - val_accuracy: 0.7847\n",
            "Epoch 11/20\n",
            "252/252 [==============================] - 35s 139ms/step - loss: 5.0533e-04 - accuracy: 1.0000 - val_loss: 1.1374 - val_accuracy: 0.7852\n",
            "Epoch 12/20\n",
            "252/252 [==============================] - 35s 138ms/step - loss: 4.0599e-04 - accuracy: 1.0000 - val_loss: 1.1550 - val_accuracy: 0.7857\n",
            "Epoch 13/20\n",
            "252/252 [==============================] - 34s 134ms/step - loss: 3.3381e-04 - accuracy: 1.0000 - val_loss: 1.1745 - val_accuracy: 0.7867\n",
            "Epoch 14/20\n",
            "252/252 [==============================] - 33s 132ms/step - loss: 2.7829e-04 - accuracy: 1.0000 - val_loss: 1.1920 - val_accuracy: 0.7847\n",
            "Epoch 15/20\n",
            "252/252 [==============================] - 34s 133ms/step - loss: 2.3471e-04 - accuracy: 1.0000 - val_loss: 1.2056 - val_accuracy: 0.7832\n",
            "Epoch 16/20\n",
            "252/252 [==============================] - 34s 134ms/step - loss: 1.9911e-04 - accuracy: 1.0000 - val_loss: 1.2228 - val_accuracy: 0.7852\n",
            "Epoch 17/20\n",
            "252/252 [==============================] - 34s 136ms/step - loss: 1.7002e-04 - accuracy: 1.0000 - val_loss: 1.2340 - val_accuracy: 0.7847\n",
            "Epoch 18/20\n",
            "252/252 [==============================] - 33s 130ms/step - loss: 1.4537e-04 - accuracy: 1.0000 - val_loss: 1.2492 - val_accuracy: 0.7837\n",
            "Epoch 19/20\n",
            "252/252 [==============================] - 34s 136ms/step - loss: 1.2480e-04 - accuracy: 1.0000 - val_loss: 1.2658 - val_accuracy: 0.7847\n",
            "Epoch 20/20\n",
            "252/252 [==============================] - 33s 132ms/step - loss: 1.0810e-04 - accuracy: 1.0000 - val_loss: 1.2774 - val_accuracy: 0.7837\n",
            "32/32 [==============================] - 1s 36ms/step - loss: 1.1369 - accuracy: 0.8010\n",
            "Testing Accuracy: 80.10%\n"
          ]
        }
      ]
    },
    {
      "cell_type": "markdown",
      "source": [],
      "metadata": {
        "id": "sfGNQwSPfIpG"
      }
    },
    {
      "cell_type": "markdown",
      "source": [
        "# New section"
      ],
      "metadata": {
        "id": "hlNJTWp9ZMkW"
      }
    }
  ]
}